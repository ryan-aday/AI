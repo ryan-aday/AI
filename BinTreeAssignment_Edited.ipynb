{
 "cells": [
  {
   "cell_type": "markdown",
   "metadata": {},
   "source": [
    "## Binary Tree Class##\n",
    "\n",
    "**Create a BinTree class** that uses the Node class below to create an ordered binary tree. \n",
    "\n",
    "The nodes (below) have a value instance variable that is comparable with the normal Python operators: \"<\", \"<=\" and \"==\", \">=\" and \">\".  **The tree should contain no duplicates (nodes with the same value).**\n",
    "\n",
    "The nodes also have pointers to their child nodes.\n"
   ]
  },
  {
   "cell_type": "code",
   "execution_count": 1,
   "metadata": {},
   "outputs": [],
   "source": [
    "class Node:\n",
    "    def __init__(self, data):\n",
    "        self.value = data\n",
    "        self.smaller = None\n",
    "        self.larger = None\n",
    "        \n",
    "    def __str__(self):\n",
    "        return str(self.value)\n"
   ]
  },
  {
   "cell_type": "markdown",
   "metadata": {},
   "source": [
    "**Complete and test the methods below.**\n",
    "\n",
    "**Note**: the _clear()_ method is tricky to code.  What you want to accomplish is to set every node's pointers to other nodes to None. If you have just 2 pointers to the left and right (larger and smaller) children of that node, then walk the tree carefully, and set those pointers in every node to None. This must be done from the bottom up. Once all of the pointers to a block of memory (in this case, a node) are removed, that block of memory becomes inaccessible, and should be collected by the garbage-collector later."
   ]
  },
  {
   "cell_type": "code",
   "execution_count": null,
   "metadata": {},
   "outputs": [],
   "source": [
    "class BinTree:\n",
    "    def __init__(self, A = None):\n",
    "        # A is an optional argument containing a list of values to be inserted into the binary tree just after cosntruction\n",
    "        \n",
    "    def insert(self, V):\n",
    "        # inserts a new value \n",
    "        \n",
    "    def has(self, V):\n",
    "        # returns True if V is in the list, else False\n",
    "        \n",
    "    def get_ordered_list(self):\n",
    "        # returns a list of all values in ordered sequence\n",
    "        \n",
    "    def clear(self):\n",
    "        # clears the list of all nodes"
   ]
  }
 ],
 "metadata": {
  "kernelspec": {
   "display_name": "Python 3",
   "language": "python",
   "name": "python3"
  },
  "language_info": {
   "codemirror_mode": {
    "name": "ipython",
    "version": 3
   },
   "file_extension": ".py",
   "mimetype": "text/x-python",
   "name": "python",
   "nbconvert_exporter": "python",
   "pygments_lexer": "ipython3",
   "version": "3.6.0"
  }
 },
 "nbformat": 4,
 "nbformat_minor": 2
}
