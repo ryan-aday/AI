{
  "nbformat": 4,
  "nbformat_minor": 0,
  "metadata": {
    "colab": {
      "name": "HW#01: BinTree",
      "version": "0.3.2",
      "provenance": [],
      "collapsed_sections": []
    },
    "kernelspec": {
      "name": "python3",
      "display_name": "Python 3"
    }
  },
  "cells": [
    {
      "metadata": {
        "id": "PpbFg5dyfdqA",
        "colab_type": "code",
        "colab": {}
      },
      "cell_type": "code",
      "source": [
        "    class Node:\n",
        "        def __init__(self, data):\n",
        "            self.value = data\n",
        "            self.smaller = None\n",
        "            self.equal_or_larger = None\n",
        "        \n",
        "        def __str__(self):\n",
        "            return str(self.value)\n",
        " "
      ],
      "execution_count": 0,
      "outputs": []
    },
    {
      "metadata": {
        "id": "xfIiuROnfni4",
        "colab_type": "code",
        "colab": {}
      },
      "cell_type": "code",
      "source": [
        "class BinTree:\n",
        "\n",
        "  \n",
        "    def __init__(self, A = None):\n",
        "        # A is an optional argument containing a list of values to be inserted into the binary tree just after cosntruction\n",
        "        self.value= A\n",
        "          \n",
        "        self.smaller = None\n",
        "        self.equal_or_larger = None\n",
        "        if A:\n",
        "          self.counter=1\n",
        "        else:\n",
        "          self.counter=0\n",
        "        \n",
        "    def __str__(self):\n",
        "        if self.smaller:\n",
        "            self.smaller.__str__()\n",
        "        print(self.value),\n",
        "        if self.equal_or_larger:\n",
        "            self.equal_or_larger.__str__()\n",
        "\n",
        "    \n",
        "    def insert(self, V):\n",
        "        # inserts a new value \n",
        "        if self.value:\n",
        "            if V< self.value:\n",
        "                if self.smaller is None:\n",
        "                    self.smaller = BinTree(V)\n",
        "                    self.counter+=1\n",
        "                else:\n",
        "                    self.smaller.insert(V)\n",
        "            elif V > self.value:\n",
        "                if self.equal_or_larger is None:\n",
        "                    self.equal_or_larger = BinTree(V)\n",
        "                    self.counter+=1\n",
        "\n",
        "                else:\n",
        "                    self.equal_or_larger.insert(V)\n",
        "        else:\n",
        "            self.value = V\n",
        "            self.counter+=1\n",
        "\n",
        "        \n",
        "    \n",
        "    def has(self, V):\n",
        "        # returns True if V is in the list, else False\n",
        "        if self.value != None:\n",
        "            return self.has_help(V, self)\n",
        "        else:\n",
        "            print(False)\n",
        "            return False\n",
        "          \n",
        "    def has_help(self, V, node):\n",
        "        if(V == node.value):\n",
        "            print(True)\n",
        "            return True\n",
        "        elif(V < node.value and node.smaller != None):\n",
        "            return self.has_help(V, node.smaller)\n",
        "        elif(V > node.value and node.equal_or_larger != None):\n",
        "            return self.has_help(V, node.equal_or_larger)\n",
        "        print(False)\n",
        "        return False\n",
        "      \n",
        "    \n",
        "    def get_ordered_list(self):\n",
        "        # returns a list of all values in ordered sequence\n",
        "        self.oL=[]\n",
        "        if(self.value != None):\n",
        "            self.gOL(self)\n",
        "            print(self.oL)\n",
        "            return self.oL\n",
        "            \n",
        "    def gOL(self, node):\n",
        "        if(node != None):\n",
        "            self.gOL(node.smaller)\n",
        "            self.oL.append(node.value)\n",
        "            self.gOL(node.equal_or_larger)\n",
        "        #return(self.oL)\n",
        "        \n",
        "    def clear(self):\n",
        "        self.value=None\n",
        "        self.equal_or_larger=None\n",
        "        self.smaller=None\n",
        "        # clears the list of all nodes\n",
        "    "
      ],
      "execution_count": 0,
      "outputs": []
    },
    {
      "metadata": {
        "id": "QbivOOEEPVhP",
        "colab_type": "code",
        "outputId": "4957a51d-fb8a-4ad4-ba83-2edc4a6467e4",
        "colab": {
          "base_uri": "https://localhost:8080/",
          "height": 173
        }
      },
      "cell_type": "code",
      "source": [
        "root = BinTree(12)\n",
        "#root.has(1)\n",
        "\n",
        "root.insert(6)\n",
        "root.insert(14)\n",
        "root.insert(3)\n",
        "\n",
        "\n",
        "root.has(12)\n",
        "root.has(6)\n",
        "root.has(1)\n",
        "\n",
        "root.__str__()\n",
        "root.get_ordered_list()\n",
        "\n",
        "root.clear()\n",
        "root.__str__()"
      ],
      "execution_count": 159,
      "outputs": [
        {
          "output_type": "stream",
          "text": [
            "True\n",
            "True\n",
            "False\n",
            "3\n",
            "6\n",
            "12\n",
            "14\n",
            "[3, 6, 12, 14]\n",
            "None\n"
          ],
          "name": "stdout"
        }
      ]
    }
  ]
}