{
 "cells": [
  {
   "cell_type": "markdown",
   "metadata": {
    "colab_type": "text",
    "id": "4n2QY0VfT02u"
   },
   "source": [
    "## File reading in Python/Jupyter ##\n",
    "1. Working with files on CoLab\n",
    "2. Finding the input file\n",
    "3. Opening local files and text file issues"
   ]
  },
  {
   "cell_type": "markdown",
   "metadata": {
    "colab_type": "text",
    "id": "5L44YrZWT02w"
   },
   "source": [
    "### 1. Data files and CoLab ###\n",
    "1. For this example, assume you have a file called \"fred.txt\" on your laptop containing at least a couple of lines of text that you want to open in Python in CoLab.\n",
    "    \n",
    "2. Upload the file into the CoLab Notebooks subdirectory of your Google Drive\n",
    "\n",
    "3. Allow CoLab to mount your Google drive for file reading/writing.  Execute the following in a CoLab cell:\n",
    "\n",
    "```python\n",
    "from google.colab import drive\n",
    "drive.mount('/content/gdrive')\n",
    "```\n",
    "   This will immediately demand an authorization code, and give you a link to create one.  Go to the link, get the code and copy it into the space provided, hit Enter.  If all goes well, CoLab can now see the files in your  Google Drive .\n",
    "  \n",
    "4. Connect to the directory containing your uploaded file. To find that directory, import the \"os\" library, and use its \"listdir\" and \"chdir\" methods to find and connect to the Colab Notebooks directory, or wherever you uploaded \"fred.txt\".\n",
    "\n",
    "5. Open the file in Python for reading"
   ]
  },
  {
   "cell_type": "code",
   "execution_count": 0,
   "metadata": {
    "colab": {
     "base_uri": "https://localhost:8080/",
     "height": 122
    },
    "colab_type": "code",
    "id": "f7_s4iNyT02y",
    "outputId": "f935cc7c-bd73-4188-eb95-b161c5d49cbe"
   },
   "outputs": [
    {
     "name": "stdout",
     "output_type": "stream",
     "text": [
      "Go to this URL in a browser: https://accounts.google.com/o/oauth2/auth?client_id=947318989803-6bn6qk8qdgf4n4g3pfee6491hc0brc4i.apps.googleusercontent.com&redirect_uri=urn%3Aietf%3Awg%3Aoauth%3A2.0%3Aoob&scope=email%20https%3A%2F%2Fwww.googleapis.com%2Fauth%2Fdocs.test%20https%3A%2F%2Fwww.googleapis.com%2Fauth%2Fdrive%20https%3A%2F%2Fwww.googleapis.com%2Fauth%2Fdrive.photos.readonly%20https%3A%2F%2Fwww.googleapis.com%2Fauth%2Fpeopleapi.readonly&response_type=code\n",
      "\n",
      "Enter your authorization code:\n",
      "··········\n",
      "Mounted at /content/gdrive\n"
     ]
    }
   ],
   "source": [
    "from google.colab import drive\n",
    "drive.mount('/content/gdrive')\n"
   ]
  },
  {
   "cell_type": "code",
   "execution_count": 0,
   "metadata": {
    "colab": {
     "base_uri": "https://localhost:8080/",
     "height": 88
    },
    "colab_type": "code",
    "id": "eUIW_KgfX3zL",
    "outputId": "dbbdfacb-83c7-4141-848a-6a9fa9f83815"
   },
   "outputs": [
    {
     "name": "stdout",
     "output_type": "stream",
     "text": [
      "['AI-HW-1.ipynb', 'BinTree.ipynb', 'CSP-LogicPuzzle2.ipynb', 'File Reading.ipynb', 'Python review - 1.ipynb', 'PythonReview-1 (1).ipynb', 'PythonReview-1.ipynb', 'Untitled.ipynb', 'Untitled0.ipynb', 'Untitled1.ipynb', 'Untitled2.ipynb', 'Untitled3.ipynb', 'Untitled4.ipynb', 'Untitled5.ipynb', 'Untitled6.ipynb', 'Untitled7.ipynb', 'Untitled8.ipynb', 'Untitled9.ipynb', 'dictall.txt', 'fred.txt', 'pre_input (1).txt', 'pre_input.txt']\n",
      "first line\n",
      "second line\n"
     ]
    }
   ],
   "source": [
    "import os\n",
    "# Verify the location of the Colab Notebooks directory by listing its files...\n",
    "# ...and you should see the \"fred.txt\" filename in the list\n",
    "print (sorted(os.listdir('gdrive/My Drive/Colab Notebooks')))\n",
    "# Connect to that directory:\n",
    "os.chdir('gdrive/My Drive/Colab Notebooks')\n",
    "# Now you should be able to open \"fred.txt\" for reading\n"
   ]
  },
  {
   "cell_type": "markdown",
   "metadata": {
    "colab_type": "text",
    "id": "DMvscKR5bWFY"
   },
   "source": [
    "### Finding Files ###\n",
    "Use the \"listdir\" and \"chdir\" methods of the \"os\" library to display and connect to directories:\n",
    "```python//\n",
    "import os\n",
    "\n",
    "# os.listdir(dirname) returns the list of filenames in the named directory\n",
    "filenames = os.listdir(dirname)\n",
    "# or, for the current dir:\n",
    "filenames = os.listdir('.')\n",
    "\n",
    "# connect to a directory with\n",
    "os.chdir(dirname)\n",
    "```\n"
   ]
  },
  {
   "cell_type": "markdown",
   "metadata": {
    "colab_type": "text",
    "id": "QcjE_GimcpLY"
   },
   "source": [
    "###3. Opening local files###\n",
    "1. It's of course, easiest if your data files are in the same directory as your Python or Notebook file.\n",
    "\n",
    "2. There's a line-ending issue that arises if the source of your data files is a Windows system.  On Windows, the normal text line-ending is \"\\r\\n\", not \"\\n\".  So...\n",
    "\n",
    "```python\n",
    "try:\n",
    "  fp = open('fred.txt','r')\n",
    "  s = fp.read()\n",
    "  fp.close()\n",
    "  if '\\r\\n' in s:\n",
    "    lines = s.split('\\r\\n')\n",
    "  else:\n",
    "    lines = s.split('\\n')\n",
    "except:\n",
    "  print (\"Dunno where fred.txt is, but it ain't here.\")\n",
    "```\n",
    "\n",
    "    "
   ]
  }
 ],
 "metadata": {
  "colab": {
   "collapsed_sections": [],
   "name": "File Reading.ipynb",
   "provenance": [],
   "version": "0.3.2"
  },
  "kernelspec": {
   "display_name": "Python 3",
   "language": "python",
   "name": "python3"
  },
  "language_info": {
   "codemirror_mode": {
    "name": "ipython",
    "version": 3
   },
   "file_extension": ".py",
   "mimetype": "text/x-python",
   "name": "python",
   "nbconvert_exporter": "python",
   "pygments_lexer": "ipython3",
   "version": "3.6.5"
  }
 },
 "nbformat": 4,
 "nbformat_minor": 1
}
