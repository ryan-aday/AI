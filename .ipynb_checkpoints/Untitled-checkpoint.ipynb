{
 "cells": [
  {
   "cell_type": "code",
   "execution_count": 25,
   "metadata": {},
   "outputs": [
    {
     "data": {
      "text/plain": [
       "'102'"
      ]
     },
     "execution_count": 25,
     "metadata": {},
     "output_type": "execute_result"
    }
   ],
   "source": [
    "class Node:\n",
    "    def __init__(self, data):\n",
    "        self.value = data\n",
    "        self.smaller = None\n",
    "        self.equal_or_larger = None\n",
    "        \n",
    "    def __str__(self):\n",
    "        return str(self.value)\n",
    "    \n",
    "Node.__init__(Node, 102)\n",
    "Node.__str__(Node)\n"
   ]
  },
  {
   "cell_type": "code",
   "execution_count": 26,
   "metadata": {},
   "outputs": [
    {
     "ename": "AttributeError",
     "evalue": "type object 'BinTree' has no attribute 'append'",
     "output_type": "error",
     "traceback": [
      "\u001b[1;31m---------------------------------------------------------------------------\u001b[0m",
      "\u001b[1;31mAttributeError\u001b[0m                            Traceback (most recent call last)",
      "\u001b[1;32m<ipython-input-26-b64cdfa420fd>\u001b[0m in \u001b[0;36m<module>\u001b[1;34m()\u001b[0m\n\u001b[0;32m     31\u001b[0m         \u001b[1;31m# clears the list of all nodes\u001b[0m\u001b[1;33m\u001b[0m\u001b[1;33m\u001b[0m\u001b[0m\n\u001b[0;32m     32\u001b[0m \u001b[1;33m\u001b[0m\u001b[0m\n\u001b[1;32m---> 33\u001b[1;33m \u001b[0mBinTree\u001b[0m\u001b[1;33m.\u001b[0m\u001b[0m__init__\u001b[0m\u001b[1;33m(\u001b[0m\u001b[0mBinTree\u001b[0m\u001b[1;33m)\u001b[0m\u001b[1;33m\u001b[0m\u001b[0m\n\u001b[0m",
      "\u001b[1;32m<ipython-input-26-b64cdfa420fd>\u001b[0m in \u001b[0;36m__init__\u001b[1;34m(self, A)\u001b[0m\n\u001b[0;32m      3\u001b[0m         \u001b[1;31m# A is an optional argument containing a list of values to be inserted into the binary tree just after cosntruction\u001b[0m\u001b[1;33m\u001b[0m\u001b[1;33m\u001b[0m\u001b[0m\n\u001b[0;32m      4\u001b[0m         \u001b[0mself\u001b[0m\u001b[1;33m.\u001b[0m\u001b[0mvalue\u001b[0m\u001b[1;33m=\u001b[0m\u001b[1;33m[\u001b[0m\u001b[1;33m]\u001b[0m\u001b[1;33m\u001b[0m\u001b[0m\n\u001b[1;32m----> 5\u001b[1;33m         \u001b[0mself\u001b[0m\u001b[1;33m.\u001b[0m\u001b[0mappend\u001b[0m\u001b[1;33m(\u001b[0m\u001b[0mA\u001b[0m\u001b[1;33m)\u001b[0m\u001b[1;33m\u001b[0m\u001b[0m\n\u001b[0m\u001b[0;32m      6\u001b[0m \u001b[1;33m\u001b[0m\u001b[0m\n\u001b[0;32m      7\u001b[0m         \u001b[0mself\u001b[0m\u001b[1;33m.\u001b[0m\u001b[0msmaller\u001b[0m \u001b[1;33m=\u001b[0m \u001b[0mA\u001b[0m\u001b[1;33m\u001b[0m\u001b[0m\n",
      "\u001b[1;31mAttributeError\u001b[0m: type object 'BinTree' has no attribute 'append'"
     ]
    }
   ],
   "source": [
    "class BinTree:\n",
    "    def __init__(self, A = None):\n",
    "        # A is an optional argument containing a list of values to be inserted into the binary tree just after cosntruction\n",
    "        self.value=A          \n",
    "        self.smaller = A\n",
    "        self.equal_or_larger = A\n",
    "        \n",
    "    def insert(self, V):\n",
    "        # inserts a new value \n",
    "        if self.value == self.smaller == self.equal_or_larger:\n",
    "          self.equal_or_larger=V\n",
    "        else:\n",
    "          self.smaller=V\n",
    "        self.append(V)  \n",
    "        \n",
    "        \n",
    "    def has(self, V):\n",
    "        # returns True if V is in the list, else False\n",
    "      if V in self.value:\n",
    "        return True\n",
    "      else:\n",
    "        return False\n",
    "        \n",
    "    #def get_ordered_list(self):\n",
    "        # returns a list of all values in ordered sequence\n",
    "        \n",
    "    def clear(self):\n",
    "        self.value=[]\n",
    "        # clears the list of all nodes\n",
    "        \n",
    "BinTree.__init__(BinTree)"
   ]
  },
  {
   "cell_type": "code",
   "execution_count": 27,
   "metadata": {},
   "outputs": [
    {
     "name": "stdout",
     "output_type": "stream",
     "text": [
      "Foo\n",
      "None\n"
     ]
    }
   ],
   "source": [
    "class BinaryNode():\n",
    "    parent = None\n",
    "    left_child = None\n",
    "\n",
    "    def run(self):\n",
    "        self.parent = \"Foo\"\n",
    "        print(self.parent)\n",
    "        print(self.left_child)\n",
    "\n",
    "BinaryNode.run(BinaryNode())"
   ]
  },
  {
   "cell_type": "code",
   "execution_count": null,
   "metadata": {},
   "outputs": [],
   "source": []
  }
 ],
 "metadata": {
  "kernelspec": {
   "display_name": "Python 3",
   "language": "python",
   "name": "python3"
  },
  "language_info": {
   "codemirror_mode": {
    "name": "ipython",
    "version": 3
   },
   "file_extension": ".py",
   "mimetype": "text/x-python",
   "name": "python",
   "nbconvert_exporter": "python",
   "pygments_lexer": "ipython3",
   "version": "3.6.5"
  }
 },
 "nbformat": 4,
 "nbformat_minor": 2
}
