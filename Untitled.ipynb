{
 "cells": [
  {
   "cell_type": "code",
   "execution_count": 25,
   "metadata": {},
   "outputs": [
    {
     "data": {
      "text/plain": [
       "'102'"
      ]
     },
     "execution_count": 25,
     "metadata": {},
     "output_type": "execute_result"
    }
   ],
   "source": [
    "class Node:\n",
    "    def __init__(self, data):\n",
    "        self.value = data\n",
    "        self.smaller = None\n",
    "        self.equal_or_larger = None\n",
    "        \n",
    "    def __str__(self):\n",
    "        return str(self.value)\n",
    "    \n",
    "Node.__init__(Node, 102)\n",
    "Node.__str__(Node)\n"
   ]
  },
  {
   "cell_type": "code",
   "execution_count": 28,
   "metadata": {},
   "outputs": [],
   "source": [
    "class BinTree:\n",
    "    def __init__(self, A = None):\n",
    "        # A is an optional argument containing a list of values to be inserted into the binary tree just after cosntruction\n",
    "        self.value=A          \n",
    "        self.smaller = A\n",
    "        self.equal_or_larger = A\n",
    "        \n",
    "    def insert(self, V):\n",
    "        # inserts a new value \n",
    "        if self.value == self.smaller == self.equal_or_larger:\n",
    "            self.equal_or_larger=V\n",
    "        if self.value >= self.larger:\n",
    "            self.larger=set.smaller\n",
    "        else:\n",
    "          self.smaller=V\n",
    "        self.value=V  \n",
    "        \n",
    "        \n",
    "    def has(self, V):\n",
    "        # returns True if V is in the list, else False\n",
    "      if V in self.value:\n",
    "        return True\n",
    "      else:\n",
    "        return False\n",
    "        \n",
    "    #def get_ordered_list(self):\n",
    "        # returns a list of all values in ordered sequence\n",
    "        \n",
    "    def clear(self):\n",
    "        self.value=[]\n",
    "        # clears the list of all nodes\n",
    "        \n",
    "BinTree.__init__(BinTree)"
   ]
  },
  {
   "cell_type": "code",
   "execution_count": 27,
   "metadata": {},
   "outputs": [
    {
     "name": "stdout",
     "output_type": "stream",
     "text": [
      "Foo\n",
      "None\n"
     ]
    }
   ],
   "source": [
    "class BinaryNode():\n",
    "    parent = None\n",
    "    left_child = None\n",
    "\n",
    "    def run(self):\n",
    "        self.parent = \"Foo\"\n",
    "        print(self.parent)\n",
    "        print(self.left_child)\n",
    "\n",
    "BinaryNode.run(BinaryNode())"
   ]
  },
  {
   "cell_type": "code",
   "execution_count": null,
   "metadata": {},
   "outputs": [],
   "source": []
  }
 ],
 "metadata": {
  "kernelspec": {
   "display_name": "Python 3",
   "language": "python",
   "name": "python3"
  },
  "language_info": {
   "codemirror_mode": {
    "name": "ipython",
    "version": 3
   },
   "file_extension": ".py",
   "mimetype": "text/x-python",
   "name": "python",
   "nbconvert_exporter": "python",
   "pygments_lexer": "ipython3",
   "version": "3.6.5"
  }
 },
 "nbformat": 4,
 "nbformat_minor": 2
}
