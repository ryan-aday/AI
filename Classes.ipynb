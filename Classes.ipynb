{
 "cells": [
  {
   "cell_type": "markdown",
   "metadata": {},
   "source": [
    "### Python Classes ###\n",
    "\n",
    "* Very similar to Java's\n",
    "* By default, eveything is public, and the parameters can be modified without a \"getter\" and \"setter\"\n",
    "* But also, new parameters can be added to instances on the fly"
   ]
  },
  {
   "cell_type": "markdown",
   "metadata": {},
   "source": [
    "## Let's do it in Java ##\n",
    "\n",
    "public class Employee {\n",
    "\n",
    "    public String name;\n",
    "    public float salary;\n",
    "    public Date birth;\n",
    "    \n",
    "    public Employee(String name, float salary, Date birth) {\n",
    "        this.name = name;\n",
    "        this.salary = salary;\n",
    "        this.birth = birth;\n",
    "    }\n",
    "    \n",
    "    public float GiveSalary(float percent) {\n",
    "        this.salary *= (1 + percent/100.);\n",
    "        return this.salary;\n",
    "    }\n",
    "}\n",
    "\n",
    "public class Dept {\n",
    "\n",
    "    public static int SizeOfCompany = 0;\n",
    "    \n",
    "    public ArrayList <Employee> DeptEmployees;\n",
    "    public String dept_name;\n",
    "    \n",
    "    public Dept(String dept_name) {\n",
    "        this.dept_name= dept_name;\n",
    "        this.DeptEmployees = new ArrayList <> ();\n",
    "    }\n",
    "    \n",
    "    public void Hire(String name, float salary, Date birth) {\n",
    "        Employee new_hire = new Employee(name, salary, birth);\n",
    "        DeptEmployees.add(new_hire);\n",
    "        SizeOfCompany += 1;\n",
    "    }\n",
    "    \n",
    "    public void Fire(String name) {\n",
    "        for (Employee a: DeptEmployees) {\n",
    "           if (a.name == name) {\n",
    "               DeptEmployees.remove(a);\n",
    "               SizeOfCompany -= 1;\n",
    "               break;\n",
    "           }\n",
    "        }\n",
    "    }\n",
    "    \n",
    "    public Employee GetEmpl(String name) {\n",
    "        for (Employee a: DeptEmployees) {\n",
    "            if (a.name == name)\n",
    "                return a;\n",
    "        }\n",
    "        return null;\n",
    "    }\n",
    "}    \n",
    "               \n",
    "        \n",
    "        \n",
    "    \n",
    "       \n",
    "    "
   ]
  },
  {
   "cell_type": "code",
   "execution_count": 1,
   "metadata": {},
   "outputs": [],
   "source": [
    "# Let's do it in Python (roughly the same)\n",
    "\n",
    "class Employee:\n",
    "    \n",
    "    def __init__(self,name,salary,date_of_birth):\n",
    "        self.emp_name = name\n",
    "        self.salary = salary\n",
    "        self.date_of_birth = date_of_birth\n",
    "    \n",
    "    def GiveRaise(self,percent):\n",
    "        self.salary *= 1 + percent/100.\n",
    "        return self.salary\n",
    "    \n",
    "class Dept:\n",
    "    \n",
    "    # This is a class variable, all departments will share it\n",
    "    SizeOfCompany = 0\n",
    "    \n",
    "    def __init__(self,dept_name):\n",
    "        self.DeptEmployees = {}\n",
    "        self.dept_name = dept_name\n",
    "    \n",
    "    def Hire(self,name,salary,birthday):\n",
    "        new_empl = Employee(name,salary,birthday)\n",
    "        # new_empl is a reference (pointer) to an instance of Employee\n",
    "        self.DeptEmployees[name] = new_empl\n",
    "        Dept.SizeOfCompany += 1\n",
    "        \n",
    "    def Fire(self, name):\n",
    "        if name in self.DeptEmployees:\n",
    "            del self.DeptEmployees[name]\n",
    "            Dept.SizeOfCompany -= 1\n",
    "            \n",
    "    def GetEmpl(self,name):\n",
    "        if name in self.DeptEmployees:\n",
    "            return self.DeptEmployees[name]\n",
    "        return None\n",
    "\n"
   ]
  },
  {
   "cell_type": "markdown",
   "metadata": {},
   "source": [
    "#### Below, we'll do ordinary things in creating and deleting instances ####\n",
    "\n",
    "Note that \"SizeOfCompany\" is independent of department -- it's a class variable shared by all instances of Dept\n"
   ]
  },
  {
   "cell_type": "code",
   "execution_count": 2,
   "metadata": {},
   "outputs": [
    {
     "name": "stdout",
     "output_type": "stream",
     "text": [
      "After creating CS_Dept: 2 people in the company\n",
      "After creating Emplish dept: 3 people in the company\n",
      "After firing Fred: 2 people in the company\n"
     ]
    }
   ],
   "source": [
    "CS_Dept = Dept('Comp Sci')\n",
    "CS_Dept.Hire('Fred',29999.95,'01/02/2003')\n",
    "CS_Dept.Hire('George',40000,'04/05/2006')\n",
    "\n",
    "TheGreatFred = CS_Dept.GetEmpl('Fred')\n",
    "TheGreatFred.GiveRaise(15)\n",
    "\n",
    "print ('After creating CS_Dept: %d people in the company' % Dept.SizeOfCompany)\n",
    "\n",
    "Engl_Dept = Dept('English')\n",
    "Engl_Dept.Hire('Harry',50000,'07/08/2009')\n",
    "print ('After creating Emplish dept: %d people in the company' % Dept.SizeOfCompany)\n",
    "\n",
    "CS_Dept.Fire('Fred')\n",
    "print ('After firing Fred: %d people in the company' % Dept.SizeOfCompany)\n"
   ]
  },
  {
   "cell_type": "markdown",
   "metadata": {},
   "source": [
    "#### Now we'll access instance parameters without \"getting\" or \"setting\" them ####"
   ]
  },
  {
   "cell_type": "code",
   "execution_count": 3,
   "metadata": {},
   "outputs": [
    {
     "name": "stdout",
     "output_type": "stream",
     "text": [
      "before:  40000\n",
      "after:   25000\n"
     ]
    }
   ],
   "source": [
    "Georgy = CS_Dept.GetEmpl('George')\n",
    "print ('before: ',Georgy.salary)\n",
    "Georgy.salary -= 15000\n",
    "print ('after:  ',Georgy.salary)\n"
   ]
  },
  {
   "cell_type": "markdown",
   "metadata": {},
   "source": [
    "#### Let's show some of the \"looseness\" of Python ###\n",
    "\n",
    "Georgy has won an award.  Let's note that in his instance, by giving him an \"award\" parameter and setting it to the name of the award.  Note that ONLY GEORGY, amonst all employees, has an award parameter in addition to emp_name and salary.  All other employees have only emp_name and salary. "
   ]
  },
  {
   "cell_type": "code",
   "execution_count": 4,
   "metadata": {},
   "outputs": [
    {
     "name": "stdout",
     "output_type": "stream",
     "text": [
      "George has Nobel\n",
      "Harry has no award parameter\n",
      "{'emp_name': 'George', 'salary': 25000, 'date_of_birth': '04/05/2006', 'award': 'Nobel'}\n",
      "{'emp_name': 'Harry', 'salary': 50000, 'date_of_birth': '07/08/2009'}\n"
     ]
    }
   ],
   "source": [
    "Georgy.award = 'Nobel'\n",
    "Harold = Engl_Dept.GetEmpl('Harry')\n",
    "\n",
    "def ShowAward(employee):\n",
    "    # Let's check first whether the employee has a parameter named \"award\" or not.\n",
    "    if 'award' in employee.__dict__:\n",
    "        print ('%s has %s' % (employee.emp_name,employee.award))\n",
    "    else:\n",
    "        print ('%s has no award parameter' % employee.emp_name)\n",
    "        \n",
    "ShowAward(Georgy)\n",
    "ShowAward(Harold)\n",
    "\n",
    "print (Georgy.__dict__)\n",
    "print (Harold.__dict__)\n",
    "    "
   ]
  },
  {
   "cell_type": "code",
   "execution_count": null,
   "metadata": {},
   "outputs": [],
   "source": []
  }
 ],
 "metadata": {
  "kernelspec": {
   "display_name": "Python 3",
   "language": "python",
   "name": "python3"
  },
  "language_info": {
   "codemirror_mode": {
    "name": "ipython",
    "version": 3
   },
   "file_extension": ".py",
   "mimetype": "text/x-python",
   "name": "python",
   "nbconvert_exporter": "python",
   "pygments_lexer": "ipython3",
   "version": "3.6.5"
  }
 },
 "nbformat": 4,
 "nbformat_minor": 2
}
